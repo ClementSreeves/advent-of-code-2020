{
 "cells": [
  {
   "cell_type": "code",
   "execution_count": 43,
   "metadata": {},
   "outputs": [],
   "source": [
    "from itertools import product\n",
    "import re\n",
    "from collections import Counter, defaultdict\n",
    "import string\n",
    "from functools import lru_cache\n",
    "import math"
   ]
  },
  {
   "cell_type": "code",
   "execution_count": 2,
   "metadata": {},
   "outputs": [],
   "source": [
    "def read_input(day):\n",
    "    with open(f'Inputs/input{day}') as f:\n",
    "        return f.read()"
   ]
  },
  {
   "cell_type": "markdown",
   "metadata": {},
   "source": [
    "## Day 1"
   ]
  },
  {
   "cell_type": "code",
   "execution_count": 5,
   "metadata": {
    "scrolled": true
   },
   "outputs": [],
   "source": [
    "expenses = [int(x) for x in read_input(1).strip().split()]"
   ]
  },
  {
   "cell_type": "code",
   "execution_count": 8,
   "metadata": {},
   "outputs": [
    {
     "data": {
      "text/plain": [
       "[1818, 1687, 1404, 1778, 1096]"
      ]
     },
     "execution_count": 8,
     "metadata": {},
     "output_type": "execute_result"
    }
   ],
   "source": [
    "expenses[-5:]"
   ]
  },
  {
   "cell_type": "code",
   "execution_count": 12,
   "metadata": {},
   "outputs": [
    {
     "name": "stdout",
     "output_type": "stream",
     "text": [
      "997899\n"
     ]
    }
   ],
   "source": [
    "for i, j in product(expenses, expenses):\n",
    "    if i + j == 2020:\n",
    "        print(i*j)\n",
    "        break"
   ]
  },
  {
   "cell_type": "code",
   "execution_count": 13,
   "metadata": {},
   "outputs": [
    {
     "name": "stdout",
     "output_type": "stream",
     "text": [
      "131248694\n"
     ]
    }
   ],
   "source": [
    "for i, j, k in product(expenses, repeat=3):\n",
    "    if i + j + k == 2020:\n",
    "        print(i*j*k)\n",
    "        break"
   ]
  },
  {
   "cell_type": "markdown",
   "metadata": {},
   "source": [
    "## Day 2"
   ]
  },
  {
   "cell_type": "code",
   "execution_count": 10,
   "metadata": {},
   "outputs": [],
   "source": [
    "items = [x.split(': ') for x in read_input(2).strip().split('\\n')]"
   ]
  },
  {
   "cell_type": "code",
   "execution_count": 11,
   "metadata": {},
   "outputs": [
    {
     "data": {
      "text/plain": [
       "[['6-12 g', 'dmgggpgggwczggghggm'],\n",
       " ['3-6 h', 'hdhjhhhhchh'],\n",
       " ['11-12 r', 'zrrkcrrrrrlh'],\n",
       " ['7-9 v', 'vhqvlvwvzqwqvrxvjnf'],\n",
       " ['1-5 r', 'rvmjr']]"
      ]
     },
     "execution_count": 11,
     "metadata": {},
     "output_type": "execute_result"
    }
   ],
   "source": [
    "items[-5:]"
   ]
  },
  {
   "cell_type": "code",
   "execution_count": 15,
   "metadata": {},
   "outputs": [],
   "source": [
    "def parse_rule(rule):\n",
    "    count, char = rule.split()\n",
    "    min_count, max_count = [int(x) for x in count.split('-')]\n",
    "    return min_count, max_count, char\n",
    "\n",
    "assert parse_rule('6-12 g') == (6, 12, 'g')"
   ]
  },
  {
   "cell_type": "code",
   "execution_count": 17,
   "metadata": {},
   "outputs": [],
   "source": [
    "valid = 0\n",
    "for rule, password in items:\n",
    "    min_count, max_count, char = parse_rule(rule)\n",
    "    if min_count <= Counter(password)[char] <= max_count:\n",
    "        valid += 1"
   ]
  },
  {
   "cell_type": "code",
   "execution_count": 18,
   "metadata": {},
   "outputs": [
    {
     "data": {
      "text/plain": [
       "564"
      ]
     },
     "execution_count": 18,
     "metadata": {},
     "output_type": "execute_result"
    }
   ],
   "source": [
    "valid"
   ]
  },
  {
   "cell_type": "code",
   "execution_count": 26,
   "metadata": {},
   "outputs": [],
   "source": [
    "valid = 0\n",
    "for rule, password in items:\n",
    "    pos_1, pos_2, char = parse_rule(rule)\n",
    "    if (password[pos_1-1] == char) ^ (password[pos_2-1] == char):\n",
    "        valid += 1"
   ]
  },
  {
   "cell_type": "code",
   "execution_count": 27,
   "metadata": {},
   "outputs": [
    {
     "data": {
      "text/plain": [
       "325"
      ]
     },
     "execution_count": 27,
     "metadata": {},
     "output_type": "execute_result"
    }
   ],
   "source": [
    "valid"
   ]
  },
  {
   "cell_type": "markdown",
   "metadata": {},
   "source": [
    "## Day 3"
   ]
  },
  {
   "cell_type": "code",
   "execution_count": 5,
   "metadata": {},
   "outputs": [],
   "source": [
    "slope = read_input(3).strip().split('\\n')"
   ]
  },
  {
   "cell_type": "code",
   "execution_count": 6,
   "metadata": {},
   "outputs": [
    {
     "data": {
      "text/plain": [
       "['.............#...#....#.....##.',\n",
       " '.#...##.........#.#.........#.#',\n",
       " '.....##......#.......#.........',\n",
       " '.......#...........#.#.........',\n",
       " '#...........#...#..#.#......#..',\n",
       " '.........##....#.#...#.........',\n",
       " '.....#.........#.#...........#.',\n",
       " '....#...............##....##...',\n",
       " '#.#.............#..#.......#.#.',\n",
       " '...#...........................']"
      ]
     },
     "execution_count": 6,
     "metadata": {},
     "output_type": "execute_result"
    }
   ],
   "source": [
    "slope[:10]"
   ]
  },
  {
   "cell_type": "code",
   "execution_count": 8,
   "metadata": {},
   "outputs": [],
   "source": [
    "height = len(slope)\n",
    "width = len(slope[0])"
   ]
  },
  {
   "cell_type": "code",
   "execution_count": 9,
   "metadata": {},
   "outputs": [
    {
     "data": {
      "text/plain": [
       "(323, 31)"
      ]
     },
     "execution_count": 9,
     "metadata": {},
     "output_type": "execute_result"
    }
   ],
   "source": [
    "height, width"
   ]
  },
  {
   "cell_type": "code",
   "execution_count": 18,
   "metadata": {},
   "outputs": [],
   "source": [
    "def trees_hit(slope, direction):\n",
    "    x, y = 0, 0\n",
    "    x_inc, y_inc = direction\n",
    "    trees_hit = 0\n",
    "    while True:\n",
    "        y += y_inc\n",
    "        x = (x + x_inc) % width\n",
    "        if y >= len(slope):\n",
    "            break\n",
    "        if slope[y][x] == '#':\n",
    "            trees_hit += 1\n",
    "    return trees_hit"
   ]
  },
  {
   "cell_type": "code",
   "execution_count": 19,
   "metadata": {},
   "outputs": [
    {
     "data": {
      "text/plain": [
       "167"
      ]
     },
     "execution_count": 19,
     "metadata": {},
     "output_type": "execute_result"
    }
   ],
   "source": [
    "trees_hit(slope, (3, 1))"
   ]
  },
  {
   "cell_type": "code",
   "execution_count": 22,
   "metadata": {},
   "outputs": [
    {
     "data": {
      "text/plain": [
       "736527114"
      ]
     },
     "execution_count": 22,
     "metadata": {},
     "output_type": "execute_result"
    }
   ],
   "source": [
    "trees_hit(slope, (1, 1)) * trees_hit(slope, (3, 1)) * trees_hit(slope, (5, 1)) * trees_hit(slope, (7, 1)) * trees_hit(slope, (1, 2))"
   ]
  },
  {
   "cell_type": "markdown",
   "metadata": {},
   "source": [
    "## Day 4"
   ]
  },
  {
   "cell_type": "code",
   "execution_count": 7,
   "metadata": {},
   "outputs": [
    {
     "data": {
      "text/plain": [
       "['iyr:2020 cid:82\\nhgt:193in hcl:#b6652a\\necl:grn eyr:2034 byr:2026',\n",
       " 'iyr:1922 hcl:245cb3 byr:2015\\npid:151cm\\neyr:2040\\necl:lzr cid:136 hgt:101',\n",
       " 'byr:2025\\neyr:2029\\nhgt:193in\\ncid:308\\necl:gry iyr:2028 pid:9335153289\\nhcl:z',\n",
       " 'eyr:2030 hgt:163cm iyr:2014\\npid:147768826 ecl:blu byr:1922 hcl:#ceb3a1 cid:169',\n",
       " 'ecl:blu byr:2002 eyr:2028 pid:998185490 cid:165 iyr:2020\\nhgt:188cm hcl:#c0946f']"
      ]
     },
     "execution_count": 7,
     "metadata": {},
     "output_type": "execute_result"
    }
   ],
   "source": [
    "records = read_input(4).strip().split('\\n\\n')\n",
    "records[-5:]"
   ]
  },
  {
   "cell_type": "code",
   "execution_count": 12,
   "metadata": {},
   "outputs": [],
   "source": [
    "def parse_record(record):\n",
    "    fields = [field.split(':') for field in record.split()]\n",
    "    return {k: v for k, v in fields}"
   ]
  },
  {
   "cell_type": "code",
   "execution_count": 13,
   "metadata": {},
   "outputs": [
    {
     "data": {
      "text/plain": [
       "{'byr': '2029',\n",
       " 'cid': '219',\n",
       " 'ecl': '#7a0fa6',\n",
       " 'eyr': '1992',\n",
       " 'hcl': '#b6652a',\n",
       " 'hgt': '59cm',\n",
       " 'iyr': '2015',\n",
       " 'pid': '9381688753'}"
      ]
     },
     "execution_count": 13,
     "metadata": {},
     "output_type": "execute_result"
    }
   ],
   "source": [
    "parse_record(records[0])"
   ]
  },
  {
   "cell_type": "code",
   "execution_count": 23,
   "metadata": {},
   "outputs": [],
   "source": [
    "parsed = [parse_record(record) for record in records]"
   ]
  },
  {
   "cell_type": "code",
   "execution_count": 24,
   "metadata": {},
   "outputs": [],
   "source": [
    "def is_valid_record(parsed_record):\n",
    "    required_fields = ['byr', 'ecl', 'eyr', 'hcl', 'hgt', 'iyr', 'pid']\n",
    "    for field in required_fields:\n",
    "        if field not in parsed_record:\n",
    "            return False\n",
    "    return True"
   ]
  },
  {
   "cell_type": "code",
   "execution_count": 25,
   "metadata": {},
   "outputs": [
    {
     "data": {
      "text/plain": [
       "210"
      ]
     },
     "execution_count": 25,
     "metadata": {},
     "output_type": "execute_result"
    }
   ],
   "source": [
    "sum([is_valid_record(r) for r in parsed])"
   ]
  },
  {
   "cell_type": "code",
   "execution_count": 65,
   "metadata": {},
   "outputs": [],
   "source": [
    "def is_valid_record2(r):\n",
    "    try:\n",
    "        if (int(r['byr']) < 1920) or (int(r['byr']) > 2002) or (len(r['byr']) != 4):\n",
    "            return False\n",
    "        if (int(r['iyr']) < 2010) or (int(r['iyr']) > 2020) or (len(r['iyr']) != 4):\n",
    "            return False\n",
    "        if (int(r['eyr']) < 2020) or (int(r['eyr']) > 2030) or (len(r['eyr']) != 4):\n",
    "            return False\n",
    "        if not re.match(r'^#[a-f0-9]{6}$', r['hcl']):\n",
    "            return False\n",
    "        if not re.match(r'^\\d{9}$', r['pid']):\n",
    "            return False\n",
    "        if r['ecl'] not in ['amb', 'blu', 'brn', 'gry', 'grn', 'hzl', 'oth']:\n",
    "            return False\n",
    "        height = re.findall(r'^(\\d+)(cm|in)$', r['hgt'])\n",
    "        if not height:\n",
    "            return False\n",
    "        value, scale = height[0]\n",
    "        value = int(value)\n",
    "        if scale == 'cm':\n",
    "            if (value < 150) or (value > 193):\n",
    "                return False\n",
    "        elif scale == 'in':\n",
    "            if (value < 59) or (value > 76):\n",
    "                return False\n",
    "        return True\n",
    "    except KeyError:\n",
    "        return False"
   ]
  },
  {
   "cell_type": "code",
   "execution_count": 66,
   "metadata": {},
   "outputs": [
    {
     "data": {
      "text/plain": [
       "131"
      ]
     },
     "execution_count": 66,
     "metadata": {},
     "output_type": "execute_result"
    }
   ],
   "source": [
    "sum([is_valid_record2(r) for r in parsed])"
   ]
  },
  {
   "cell_type": "markdown",
   "metadata": {},
   "source": [
    "## Day 5"
   ]
  },
  {
   "cell_type": "code",
   "execution_count": 5,
   "metadata": {},
   "outputs": [],
   "source": [
    "passes = read_input(5).strip().split()"
   ]
  },
  {
   "cell_type": "code",
   "execution_count": 6,
   "metadata": {},
   "outputs": [
    {
     "data": {
      "text/plain": [
       "['FBBBBBBLLR', 'FBBFFFBLRL', 'BBBFFBFRLL', 'FBFFBFBRRL', 'BBFFFFFRRL']"
      ]
     },
     "execution_count": 6,
     "metadata": {},
     "output_type": "execute_result"
    }
   ],
   "source": [
    "passes[-5:]"
   ]
  },
  {
   "cell_type": "code",
   "execution_count": 24,
   "metadata": {},
   "outputs": [],
   "source": [
    "def seat_id(b_pass):\n",
    "    # translate each sequence to a binary number\n",
    "    translation = str.maketrans('FBLR', '0101')\n",
    "    b_pass = b_pass.translate(translation)\n",
    "    row = int(b_pass[:7], base=2)\n",
    "    col = int(b_pass[7:], base=2)\n",
    "    return (row * 8) + col"
   ]
  },
  {
   "cell_type": "code",
   "execution_count": 25,
   "metadata": {},
   "outputs": [
    {
     "data": {
      "text/plain": [
       "357"
      ]
     },
     "execution_count": 25,
     "metadata": {},
     "output_type": "execute_result"
    }
   ],
   "source": [
    "seat_id('FBFBBFFRLR')"
   ]
  },
  {
   "cell_type": "code",
   "execution_count": 26,
   "metadata": {},
   "outputs": [],
   "source": [
    "seat_ids = [seat_id(b_pass) for b_pass in passes]"
   ]
  },
  {
   "cell_type": "code",
   "execution_count": 27,
   "metadata": {},
   "outputs": [
    {
     "data": {
      "text/plain": [
       "959"
      ]
     },
     "execution_count": 27,
     "metadata": {},
     "output_type": "execute_result"
    }
   ],
   "source": [
    "max(seat_ids)"
   ]
  },
  {
   "cell_type": "code",
   "execution_count": 28,
   "metadata": {},
   "outputs": [
    {
     "data": {
      "text/plain": [
       "527"
      ]
     },
     "execution_count": 28,
     "metadata": {},
     "output_type": "execute_result"
    }
   ],
   "source": [
    "max(set(range(959)) - set(seat_ids))"
   ]
  },
  {
   "cell_type": "markdown",
   "metadata": {},
   "source": [
    "## Day 6"
   ]
  },
  {
   "cell_type": "code",
   "execution_count": 46,
   "metadata": {},
   "outputs": [],
   "source": [
    "groups = read_input(6).strip().split('\\n\\n')"
   ]
  },
  {
   "cell_type": "code",
   "execution_count": 47,
   "metadata": {},
   "outputs": [
    {
     "data": {
      "text/plain": [
       "['dm\\nyk', 'xyqbn\\ncxypns\\nhkgylf', 'mhqunico\\nmchio\\nhciwosm']"
      ]
     },
     "execution_count": 47,
     "metadata": {},
     "output_type": "execute_result"
    }
   ],
   "source": [
    "groups[-3:]"
   ]
  },
  {
   "cell_type": "code",
   "execution_count": 48,
   "metadata": {},
   "outputs": [
    {
     "data": {
      "text/plain": [
       "6947"
      ]
     },
     "execution_count": 48,
     "metadata": {},
     "output_type": "execute_result"
    }
   ],
   "source": [
    "sum([len(Counter(g.replace('\\n', ''))) for g in groups])"
   ]
  },
  {
   "cell_type": "code",
   "execution_count": 53,
   "metadata": {},
   "outputs": [],
   "source": [
    "count = 0\n",
    "for group in groups:\n",
    "    intersection = set(string.ascii_lowercase)\n",
    "    for person in group.split():\n",
    "        intersection &= set(person)\n",
    "    count += len(intersection)"
   ]
  },
  {
   "cell_type": "code",
   "execution_count": 54,
   "metadata": {},
   "outputs": [
    {
     "data": {
      "text/plain": [
       "3398"
      ]
     },
     "execution_count": 54,
     "metadata": {},
     "output_type": "execute_result"
    }
   ],
   "source": [
    "count"
   ]
  },
  {
   "cell_type": "markdown",
   "metadata": {},
   "source": [
    "## Day 7"
   ]
  },
  {
   "cell_type": "code",
   "execution_count": 76,
   "metadata": {},
   "outputs": [],
   "source": [
    "listings = read_input(7).strip().split('\\n')"
   ]
  },
  {
   "cell_type": "code",
   "execution_count": 77,
   "metadata": {},
   "outputs": [
    {
     "data": {
      "text/plain": [
       "['wavy turquoise bags contain no other bags.',\n",
       " 'vibrant beige bags contain 4 drab lime bags, 1 muted violet bag, 5 drab plum bags, 5 shiny silver bags.',\n",
       " 'plaid green bags contain 2 pale olive bags, 1 dark chartreuse bag, 1 vibrant olive bag, 1 pale bronze bag.',\n",
       " 'plaid fuchsia bags contain 5 dull teal bags, 4 dark beige bags, 4 shiny teal bags, 5 vibrant orange bags.',\n",
       " 'vibrant coral bags contain 1 dotted blue bag.']"
      ]
     },
     "execution_count": 77,
     "metadata": {},
     "output_type": "execute_result"
    }
   ],
   "source": [
    "listings[:5]"
   ]
  },
  {
   "cell_type": "code",
   "execution_count": 40,
   "metadata": {},
   "outputs": [],
   "source": [
    "def parse_input(item):\n",
    "    bag = re.match(r'^(\\w+ \\w+)', item).group(1)\n",
    "    contents = re.findall(r'(\\d+) (\\w+ \\w+)', item)\n",
    "    contents = [(colour, int(count)) for count, colour in contents]\n",
    "    return bag, contents"
   ]
  },
  {
   "cell_type": "code",
   "execution_count": 41,
   "metadata": {},
   "outputs": [
    {
     "data": {
      "text/plain": [
       "('wavy turquoise', [])"
      ]
     },
     "execution_count": 41,
     "metadata": {},
     "output_type": "execute_result"
    }
   ],
   "source": [
    "parse_input(listings[0])"
   ]
  },
  {
   "cell_type": "code",
   "execution_count": 42,
   "metadata": {},
   "outputs": [
    {
     "data": {
      "text/plain": [
       "('vibrant beige',\n",
       " [('drab lime', 4),\n",
       "  ('muted violet', 1),\n",
       "  ('drab plum', 5),\n",
       "  ('shiny silver', 5)])"
      ]
     },
     "execution_count": 42,
     "metadata": {},
     "output_type": "execute_result"
    }
   ],
   "source": [
    "parse_input(listings[1])"
   ]
  },
  {
   "cell_type": "code",
   "execution_count": 49,
   "metadata": {},
   "outputs": [],
   "source": [
    "possible_containers = defaultdict(list)\n",
    "for l in listings:\n",
    "    container, contents = parse_input(l)\n",
    "    for bag, _ in contents:\n",
    "        possible_containers[bag].append(container)"
   ]
  },
  {
   "cell_type": "code",
   "execution_count": 72,
   "metadata": {},
   "outputs": [
    {
     "data": {
      "text/plain": [
       "222"
      ]
     },
     "execution_count": 72,
     "metadata": {},
     "output_type": "execute_result"
    }
   ],
   "source": [
    "frontier = ['shiny gold']\n",
    "containers = set()\n",
    "while frontier:\n",
    "    for c in possible_containers[frontier.pop()]:\n",
    "        frontier.append(c)\n",
    "        containers.add(c)\n",
    "len(containers)"
   ]
  },
  {
   "cell_type": "code",
   "execution_count": 82,
   "metadata": {},
   "outputs": [],
   "source": [
    "bag_contents = {}\n",
    "for l in listings:\n",
    "    bag, contents = parse_input(l)\n",
    "    bag_contents[bag] = contents"
   ]
  },
  {
   "cell_type": "code",
   "execution_count": 90,
   "metadata": {},
   "outputs": [
    {
     "data": {
      "text/plain": [
       "13264"
      ]
     },
     "execution_count": 90,
     "metadata": {},
     "output_type": "execute_result"
    }
   ],
   "source": [
    "content_count = 0\n",
    "frontier = [('shiny gold', 1)]\n",
    "while frontier:\n",
    "    bag, multiplier = frontier.pop()\n",
    "    for colour, count in bag_contents[bag]:\n",
    "        frontier.append((colour, multiplier * count))\n",
    "        content_count += (multiplier * count)\n",
    "content_count"
   ]
  },
  {
   "cell_type": "markdown",
   "metadata": {},
   "source": [
    "## Day 8"
   ]
  },
  {
   "cell_type": "code",
   "execution_count": 102,
   "metadata": {},
   "outputs": [],
   "source": [
    "program = read_input(8).strip().split('\\n')"
   ]
  },
  {
   "cell_type": "code",
   "execution_count": 103,
   "metadata": {},
   "outputs": [],
   "source": [
    "def parse_instruction(instr):\n",
    "    command, value = instr.split()\n",
    "    return command, int(value)"
   ]
  },
  {
   "cell_type": "code",
   "execution_count": 104,
   "metadata": {},
   "outputs": [],
   "source": [
    "program = [parse_instruction(i) for i in program]"
   ]
  },
  {
   "cell_type": "code",
   "execution_count": 108,
   "metadata": {},
   "outputs": [],
   "source": [
    "def run(program):\n",
    "    instructions_run = set()\n",
    "    i = 0\n",
    "    accumulator = 0\n",
    "    while True:\n",
    "\n",
    "        if i in instructions_run:\n",
    "            return False\n",
    "        else:\n",
    "            instructions_run.add(i)\n",
    "            \n",
    "        try:\n",
    "            command, value = program[i]\n",
    "        except IndexError:\n",
    "            return accumulator\n",
    "        \n",
    "        if command == 'acc':\n",
    "            accumulator += value\n",
    "            i += 1\n",
    "        elif command == 'jmp':\n",
    "            i += value\n",
    "        elif command == 'nop':\n",
    "            i += 1\n",
    "        else:\n",
    "            raise ValueError(\"Invalid command\")"
   ]
  },
  {
   "cell_type": "code",
   "execution_count": 107,
   "metadata": {},
   "outputs": [
    {
     "name": "stdout",
     "output_type": "stream",
     "text": [
      "accumulator is 1930\n"
     ]
    }
   ],
   "source": [
    "run(program)"
   ]
  },
  {
   "cell_type": "code",
   "execution_count": 109,
   "metadata": {},
   "outputs": [
    {
     "name": "stdout",
     "output_type": "stream",
     "text": [
      "1688\n"
     ]
    }
   ],
   "source": [
    "for idx, instr in enumerate(program):\n",
    "    command, value = instr\n",
    "    if command == 'acc':\n",
    "        continue\n",
    "    elif command == 'jmp':\n",
    "        new_program = program[:]\n",
    "        new_program[idx] = ('nop', value)\n",
    "    elif command == 'nop':\n",
    "        new_program = program[:]\n",
    "        new_program[idx] = ('jmp', value)\n",
    "    if run(new_program):\n",
    "        print(run(new_program))\n",
    "        break"
   ]
  },
  {
   "cell_type": "markdown",
   "metadata": {},
   "source": [
    "## Day 9"
   ]
  },
  {
   "cell_type": "code",
   "execution_count": 5,
   "metadata": {},
   "outputs": [],
   "source": [
    "numbers = [int(x) for x in read_input(9).strip().split()]"
   ]
  },
  {
   "cell_type": "code",
   "execution_count": 6,
   "metadata": {},
   "outputs": [
    {
     "data": {
      "text/plain": [
       "[37, 1, 33, 42, 17, 34, 27, 44, 26, 39]"
      ]
     },
     "execution_count": 6,
     "metadata": {},
     "output_type": "execute_result"
    }
   ],
   "source": [
    "numbers[:10]"
   ]
  },
  {
   "cell_type": "code",
   "execution_count": 7,
   "metadata": {},
   "outputs": [],
   "source": [
    "def pairwise_sums(nums):\n",
    "    return set([x + y for x in nums for y in nums if x != y])"
   ]
  },
  {
   "cell_type": "code",
   "execution_count": 10,
   "metadata": {},
   "outputs": [
    {
     "name": "stdout",
     "output_type": "stream",
     "text": [
      "50047984\n"
     ]
    }
   ],
   "source": [
    "for i in range(25, len(numbers)):\n",
    "    if numbers[i] not in pairwise_sums(numbers[i-25:i]):\n",
    "        print(numbers[i])\n",
    "        break"
   ]
  },
  {
   "cell_type": "code",
   "execution_count": 14,
   "metadata": {},
   "outputs": [
    {
     "data": {
      "text/plain": [
       "5407707"
      ]
     },
     "execution_count": 14,
     "metadata": {},
     "output_type": "execute_result"
    }
   ],
   "source": [
    "for i in range(len(numbers)):\n",
    "    cum_sum = numbers[i]\n",
    "    j = i\n",
    "    result = None\n",
    "    while True:\n",
    "        j += 1\n",
    "        cum_sum += numbers[j]\n",
    "        if cum_sum == 50047984:\n",
    "            result = max(numbers[i:j+1]) + min(numbers[i:j+1])\n",
    "            break\n",
    "        elif cum_sum > 50047984:\n",
    "            break\n",
    "    if result:\n",
    "        break\n",
    "\n",
    "result"
   ]
  },
  {
   "cell_type": "markdown",
   "metadata": {},
   "source": [
    "## Day 10"
   ]
  },
  {
   "cell_type": "code",
   "execution_count": 3,
   "metadata": {},
   "outputs": [],
   "source": [
    "adapters = [int(x) for x in read_input(10).strip().split()]"
   ]
  },
  {
   "cell_type": "code",
   "execution_count": 4,
   "metadata": {},
   "outputs": [],
   "source": [
    "sorted_adapters = sorted(adapters)\n",
    "sorted_adapters.append(sorted_adapters[-1] + 3)\n",
    "sorted_adapters.insert(0, 0)"
   ]
  },
  {
   "cell_type": "code",
   "execution_count": 5,
   "metadata": {},
   "outputs": [],
   "source": [
    "diffs = Counter([y-x for x, y in zip(sorted_adapters[:-1], sorted_adapters[1:])])"
   ]
  },
  {
   "cell_type": "code",
   "execution_count": 6,
   "metadata": {},
   "outputs": [
    {
     "data": {
      "text/plain": [
       "2080"
      ]
     },
     "execution_count": 6,
     "metadata": {},
     "output_type": "execute_result"
    }
   ],
   "source": [
    "diffs[1] * diffs[3]"
   ]
  },
  {
   "cell_type": "code",
   "execution_count": 20,
   "metadata": {},
   "outputs": [],
   "source": [
    "@lru_cache()\n",
    "def paths_to(x, sorted_adapters):\n",
    "    if x == 0:\n",
    "        return 1\n",
    "    else:\n",
    "        return sum([paths_to(y, sorted_adapters) for y in range(x-3, x) if y in sorted_adapters])"
   ]
  },
  {
   "cell_type": "code",
   "execution_count": 21,
   "metadata": {},
   "outputs": [
    {
     "data": {
      "text/plain": [
       "161"
      ]
     },
     "execution_count": 21,
     "metadata": {},
     "output_type": "execute_result"
    }
   ],
   "source": [
    "sorted_adapters[-1]"
   ]
  },
  {
   "cell_type": "code",
   "execution_count": 22,
   "metadata": {},
   "outputs": [
    {
     "data": {
      "text/plain": [
       "6908379398144"
      ]
     },
     "execution_count": 22,
     "metadata": {},
     "output_type": "execute_result"
    }
   ],
   "source": [
    "paths_to(161, tuple(sorted_adapters))"
   ]
  },
  {
   "cell_type": "markdown",
   "metadata": {},
   "source": [
    "## Day 11"
   ]
  },
  {
   "cell_type": "code",
   "execution_count": 25,
   "metadata": {},
   "outputs": [],
   "source": [
    "layout = read_input(11).strip().split()"
   ]
  },
  {
   "cell_type": "code",
   "execution_count": 67,
   "metadata": {},
   "outputs": [
    {
     "data": {
      "text/plain": [
       "['LLLLLL.LLLLLLLLLL.LLLLLL.LLLLLLLLL.LLLL..LLLL.LLLLLL.LLLL.LLLLLLLLLLLLLLLLLLLLLLLLLLLLLLLLLLLLLL',\n",
       " 'LLLLLLLLLLL.LLLLL.LLLLLL.LLLLLLLLL.L.LLL.LLLL.LLLLLL.LLLL.LLLLLLLLL.LLLLLLLL.LLLLL.LLLLLLLLLLLLL',\n",
       " 'LLLLLL.LLLL.LLLLL.LLLLLL.LLLLLLLLL.LLLLL.LL.L.LLLLLL.LLLL.LLLLLLLLL.LLLLLL.LLLLLLLLLL.LLLLLLLLLL',\n",
       " 'LLLLLL.LLLL.LLLLL.LLLLLL.LLLLLLLLL.LLLLL.LLLL..LLLLLLLLLL.LLLLLLLLLLLLLLLL.LLLLLLLLLLLLLLL.LL.LL',\n",
       " 'LLLLLL.LLLL.LLLLL.LLLLLL.LLLLLLLLL.LLLLLLLLLLLLLLLLL.LLLL.LLLLLLLLLLLLLLLLLLLLLLLL.LLLLLLLLLLLLL']"
      ]
     },
     "execution_count": 67,
     "metadata": {},
     "output_type": "execute_result"
    }
   ],
   "source": [
    "layout[:5]"
   ]
  },
  {
   "cell_type": "code",
   "execution_count": 68,
   "metadata": {},
   "outputs": [],
   "source": [
    "seats = {(x, y) for x in range(len(layout)) for y in range(len(layout[0])) if layout[x][y] == 'L'}"
   ]
  },
  {
   "cell_type": "code",
   "execution_count": 69,
   "metadata": {},
   "outputs": [],
   "source": [
    "def neighbours(x, y):\n",
    "    return ((x+1, y), (x-1, y), (x, y+1), (x+1, y+1), (x-1, y+1),  (x, y-1), (x+1, y-1), (x-1, y-1))"
   ]
  },
  {
   "cell_type": "code",
   "execution_count": 71,
   "metadata": {},
   "outputs": [
    {
     "name": "stdout",
     "output_type": "stream",
     "text": [
      "2424\n"
     ]
    }
   ],
   "source": [
    "empty = seats\n",
    "occupied = set()\n",
    "\n",
    "while True:\n",
    "    \n",
    "    new_occupied = set()\n",
    "    for seat in empty:\n",
    "        if all([loc not in occupied for loc in neighbours(*seat)]):\n",
    "            new_occupied.add(seat)\n",
    "            \n",
    "    new_empty = set()\n",
    "    for seat in occupied:\n",
    "        if sum([loc in occupied for loc in neighbours(*seat)]) >= 4:\n",
    "            new_empty.add(seat)\n",
    "    \n",
    "    if len(new_occupied) + len(new_empty) == 0:\n",
    "        print(len(occupied))\n",
    "        break\n",
    "            \n",
    "    occupied = (occupied | new_occupied) - new_empty\n",
    "    empty = (empty | new_empty) - new_occupied"
   ]
  },
  {
   "cell_type": "code",
   "execution_count": 72,
   "metadata": {},
   "outputs": [],
   "source": [
    "def add_coords(a, b):\n",
    "    return (a[0] + b[0], a[1] + b[1])"
   ]
  },
  {
   "cell_type": "code",
   "execution_count": null,
   "metadata": {},
   "outputs": [],
   "source": [
    "visible_seats = defaultdict(list)\n",
    "directions = ((1, 0), (-1, 0), (-1, 1), (0, 1), (1, 1), (-1, -1), (0, -1), (1, -1))\n",
    "for seat in seats:\n",
    "    for d in directions:\n",
    "        i = 1\n",
    "        loc = add_coords(seat, d)\n",
    "        while loc not in seats:\n",
    "            loc = add_coords(loc, d)\n",
    "            \n",
    "                    \n",
    "            i += 1\n",
    "                    \n",
    "    "
   ]
  },
  {
   "cell_type": "markdown",
   "metadata": {},
   "source": [
    "## Day 12"
   ]
  },
  {
   "cell_type": "code",
   "execution_count": 3,
   "metadata": {},
   "outputs": [
    {
     "data": {
      "text/plain": [
       "['R90', 'W5', 'R90', 'F3', 'E4']"
      ]
     },
     "execution_count": 3,
     "metadata": {},
     "output_type": "execute_result"
    }
   ],
   "source": [
    "instructions = read_input(12).strip().split()\n",
    "instructions[:5]"
   ]
  },
  {
   "cell_type": "code",
   "execution_count": 11,
   "metadata": {},
   "outputs": [],
   "source": [
    "# use polar coordinates\n",
    "directions = {'N': 0 + 1j, 'E': 1 + 0j, 'S': 0 - 1j, 'W': -1 + 0j}"
   ]
  },
  {
   "cell_type": "code",
   "execution_count": 17,
   "metadata": {},
   "outputs": [],
   "source": [
    "start = 0 + 0j\n",
    "facing = 1 + 0j"
   ]
  },
  {
   "cell_type": "code",
   "execution_count": 20,
   "metadata": {},
   "outputs": [],
   "source": [
    "position = start\n",
    "for i in instructions:\n",
    "    code, value = i[0], int(i[1:])\n",
    "    if code in directions:\n",
    "        position += value * directions[code]\n",
    "    elif code == 'F':\n",
    "        position += value * facing\n",
    "    elif code in ('L', 'R'):\n",
    "        # left is multiplication by i, right is multiplication by -i, in polar coordinates\n",
    "        for _ in range(value // 90):\n",
    "            facing *= 1j if code == 'L' else -1j\n",
    "    else:\n",
    "        raise ValueError('Invalid code')"
   ]
  },
  {
   "cell_type": "code",
   "execution_count": 21,
   "metadata": {},
   "outputs": [],
   "source": [
    "def manhattan_dist(a, b):\n",
    "    return abs(a.real - b.real) + abs(a.imag - b.imag)"
   ]
  },
  {
   "cell_type": "code",
   "execution_count": 22,
   "metadata": {},
   "outputs": [
    {
     "data": {
      "text/plain": [
       "636.0"
      ]
     },
     "execution_count": 22,
     "metadata": {},
     "output_type": "execute_result"
    }
   ],
   "source": [
    "manhattan_dist(start, position)"
   ]
  },
  {
   "cell_type": "code",
   "execution_count": 26,
   "metadata": {},
   "outputs": [
    {
     "data": {
      "text/plain": [
       "26841.0"
      ]
     },
     "execution_count": 26,
     "metadata": {},
     "output_type": "execute_result"
    }
   ],
   "source": [
    "waypoint = 10 + 1j\n",
    "ship_position = start\n",
    "\n",
    "for i in instructions:\n",
    "    code, value = i[0], int(i[1:])\n",
    "    if code in directions:\n",
    "        waypoint += value * directions[code]\n",
    "    elif code == 'F':\n",
    "        ship_position += value * waypoint\n",
    "    elif code in ('L', 'R'):\n",
    "        # left is multiplication by i, right is multiplication by -i, in polar coordinates\n",
    "        for _ in range(value // 90):\n",
    "            waypoint *= 1j if code == 'L' else -1j\n",
    "    else:\n",
    "        raise ValueError('Invalid code')\n",
    "        \n",
    "manhattan_dist(start, ship_position)"
   ]
  },
  {
   "cell_type": "markdown",
   "metadata": {},
   "source": [
    "## Day 13"
   ]
  },
  {
   "cell_type": "code",
   "execution_count": 27,
   "metadata": {},
   "outputs": [],
   "source": [
    "start_time = 1000495\n",
    "buses = [19, 41, 521, 23, 17, 29, 523, 37, 13]"
   ]
  },
  {
   "cell_type": "code",
   "execution_count": 30,
   "metadata": {},
   "outputs": [
    {
     "data": {
      "text/plain": [
       "2092"
      ]
     },
     "execution_count": 30,
     "metadata": {},
     "output_type": "execute_result"
    }
   ],
   "source": [
    "time = start_time\n",
    "result = None\n",
    "while True:\n",
    "    for b in buses:\n",
    "        if time % b == 0:\n",
    "            result = b * (time - start_time)\n",
    "    if result: break\n",
    "    time += 1\n",
    "result"
   ]
  },
  {
   "cell_type": "code",
   "execution_count": 46,
   "metadata": {},
   "outputs": [],
   "source": [
    "# try using a sieve https://en.wikipedia.org/wiki/Chinese_remainder_theorem#Search_by_sieving\n",
    "# find the equations x === a mod n for each bus time n\n",
    "equations = []\n",
    "start_time, buses = read_input(13).strip().split('\\n')\n",
    "t = 0\n",
    "for b in buses.split(','):\n",
    "    if b != 'x':\n",
    "        n = int(b)\n",
    "        a = -t + (math.ceil(t / n) * n)\n",
    "        equations.append((a, n))\n",
    "    t += 1"
   ]
  },
  {
   "cell_type": "code",
   "execution_count": 49,
   "metadata": {},
   "outputs": [
    {
     "data": {
      "text/plain": [
       "[(473, 523),\n",
       " (502, 521),\n",
       " (32, 41),\n",
       " (18, 37),\n",
       " (10, 29),\n",
       " (19, 23),\n",
       " (0, 19),\n",
       " (15, 17),\n",
       " (2, 13)]"
      ]
     },
     "execution_count": 49,
     "metadata": {},
     "output_type": "execute_result"
    }
   ],
   "source": [
    "equations = sorted(equations, key=lambda x: x[1], reverse=True)\n",
    "equations"
   ]
  },
  {
   "cell_type": "code",
   "execution_count": 52,
   "metadata": {},
   "outputs": [
    {
     "name": "stdout",
     "output_type": "stream",
     "text": [
      " "
     ]
    }
   ],
   "source": [
    "%%prun\n",
    "value, increment = equations[0]\n",
    "for eq in equations[1:]:\n",
    "    target, modulo = eq\n",
    "    while value % modulo != target:\n",
    "        value += increment\n",
    "    increment *= modulo"
   ]
  },
  {
   "cell_type": "code",
   "execution_count": 51,
   "metadata": {},
   "outputs": [
    {
     "data": {
      "text/plain": [
       "702970661767766"
      ]
     },
     "execution_count": 51,
     "metadata": {},
     "output_type": "execute_result"
    }
   ],
   "source": [
    "value"
   ]
  },
  {
   "cell_type": "markdown",
   "metadata": {},
   "source": [
    "## Day 14"
   ]
  },
  {
   "cell_type": "code",
   "execution_count": 59,
   "metadata": {},
   "outputs": [],
   "source": [
    "program = read_input(14).strip().split('\\n')"
   ]
  },
  {
   "cell_type": "code",
   "execution_count": 60,
   "metadata": {},
   "outputs": [],
   "source": [
    "def apply_mask(value, mask):\n",
    "    value &= int(mask.replace('X', '1'), base=2)\n",
    "    value |= int(mask.replace('X', '0'), base=2)\n",
    "    return value\n",
    "\n",
    "assert apply_mask(11, 'XXXXXXXXXXXXXXXXXXXXXXXXXXXXX1XXXX0X') == 73\n",
    "assert apply_mask(101, 'XXXXXXXXXXXXXXXXXXXXXXXXXXXXX1XXXX0X') == 101\n",
    "assert apply_mask(0, 'XXXXXXXXXXXXXXXXXXXXXXXXXXXXX1XXXX0X') == 64"
   ]
  },
  {
   "cell_type": "code",
   "execution_count": 63,
   "metadata": {},
   "outputs": [],
   "source": [
    "registers = {}\n",
    "mask = None\n",
    "for i in program:\n",
    "    target, value = i.split(' = ')\n",
    "    if target == 'mask':\n",
    "        mask = value\n",
    "    else:\n",
    "        register = int(target[4:-1])\n",
    "        registers[register] = apply_mask(int(value), mask)"
   ]
  },
  {
   "cell_type": "code",
   "execution_count": 64,
   "metadata": {},
   "outputs": [
    {
     "data": {
      "text/plain": [
       "11926135976176"
      ]
     },
     "execution_count": 64,
     "metadata": {},
     "output_type": "execute_result"
    }
   ],
   "source": [
    "sum(registers.values())"
   ]
  },
  {
   "cell_type": "code",
   "execution_count": 81,
   "metadata": {},
   "outputs": [
    {
     "data": {
      "text/plain": [
       "'000000000000000000000000000000100101'"
      ]
     },
     "execution_count": 81,
     "metadata": {},
     "output_type": "execute_result"
    }
   ],
   "source": [
    "f'{37:036b}'"
   ]
  },
  {
   "cell_type": "code",
   "execution_count": 90,
   "metadata": {},
   "outputs": [],
   "source": [
    "def apply_mask_2(value, mask):\n",
    "    value = f'{value:036b}'\n",
    "    masks = ['']\n",
    "    for i in range(len(mask)):\n",
    "        if mask[i] == 'X':\n",
    "            new_bits = ['0', '1']\n",
    "        elif mask[i] == '1':\n",
    "            new_bits = ['1']\n",
    "        elif mask[i] == '0':\n",
    "            new_bits = [value[i]]\n",
    "        new_masks = []\n",
    "        for m in masks:\n",
    "            for bit in new_bits:\n",
    "                new_masks.append(m + bit)\n",
    "        masks = new_masks\n",
    "    return [int(m, base=2) for m in masks]"
   ]
  },
  {
   "cell_type": "code",
   "execution_count": 91,
   "metadata": {},
   "outputs": [
    {
     "data": {
      "text/plain": [
       "[26, 27, 58, 59]"
      ]
     },
     "execution_count": 91,
     "metadata": {},
     "output_type": "execute_result"
    }
   ],
   "source": [
    "apply_mask_2(42, '000000000000000000000000000000X1001X')\n"
   ]
  },
  {
   "cell_type": "code",
   "execution_count": 94,
   "metadata": {},
   "outputs": [],
   "source": [
    "registers = {}\n",
    "mask = None\n",
    "for i in program:\n",
    "    target, value = i.split(' = ')\n",
    "    if target == 'mask':\n",
    "        mask = value\n",
    "    else:\n",
    "        register = int(target[4:-1])\n",
    "        for reg in apply_mask_2(register, mask):\n",
    "            registers[reg] = int(value)"
   ]
  },
  {
   "cell_type": "code",
   "execution_count": 95,
   "metadata": {},
   "outputs": [
    {
     "data": {
      "text/plain": [
       "4330547254348"
      ]
     },
     "execution_count": 95,
     "metadata": {},
     "output_type": "execute_result"
    }
   ],
   "source": [
    "sum(registers.values())"
   ]
  },
  {
   "cell_type": "markdown",
   "metadata": {},
   "source": [
    "## Day 15"
   ]
  },
  {
   "cell_type": "code",
   "execution_count": 120,
   "metadata": {},
   "outputs": [],
   "source": [
    "input_nums = [0,13,1,16,6,17]"
   ]
  },
  {
   "cell_type": "code",
   "execution_count": 131,
   "metadata": {},
   "outputs": [
    {
     "name": "stdout",
     "output_type": "stream",
     "text": [
      " "
     ]
    }
   ],
   "source": [
    "%%prun\n",
    "last_seen = {}\n",
    "for i, num in enumerate(input_nums[:-1]):\n",
    "    last_seen[num] = i + 1\n",
    "\n",
    "num = input_nums[-1]\n",
    "i = len(input_nums)\n",
    "while True:\n",
    "    if i == 5000000:\n",
    "        break\n",
    "    if num in last_seen:\n",
    "        new_num = i - last_seen[num]\n",
    "    else:\n",
    "        new_num = 0\n",
    "    last_seen[num] = i\n",
    "    num = new_num\n",
    "    i += 1"
   ]
  },
  {
   "cell_type": "code",
   "execution_count": 102,
   "metadata": {},
   "outputs": [
    {
     "data": {
      "text/plain": [
       "17"
      ]
     },
     "execution_count": 102,
     "metadata": {},
     "output_type": "execute_result"
    }
   ],
   "source": [
    "num"
   ]
  },
  {
   "cell_type": "code",
   "execution_count": 100,
   "metadata": {},
   "outputs": [
    {
     "data": {
      "text/plain": [
       "5"
      ]
     },
     "execution_count": 100,
     "metadata": {},
     "output_type": "execute_result"
    }
   ],
   "source": [
    "i"
   ]
  },
  {
   "cell_type": "code",
   "execution_count": null,
   "metadata": {},
   "outputs": [],
   "source": []
  }
 ],
 "metadata": {
  "kernelspec": {
   "display_name": "Python 3",
   "language": "python",
   "name": "python3"
  },
  "language_info": {
   "codemirror_mode": {
    "name": "ipython",
    "version": 3
   },
   "file_extension": ".py",
   "mimetype": "text/x-python",
   "name": "python",
   "nbconvert_exporter": "python",
   "pygments_lexer": "ipython3",
   "version": "3.6.9"
  }
 },
 "nbformat": 4,
 "nbformat_minor": 2
}
