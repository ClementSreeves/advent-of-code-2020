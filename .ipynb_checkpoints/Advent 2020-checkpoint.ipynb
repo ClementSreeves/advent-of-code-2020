{
 "cells": [
  {
   "cell_type": "code",
   "execution_count": 52,
   "metadata": {},
   "outputs": [],
   "source": [
    "from itertools import product\n",
    "import re\n",
    "from collections import Counter\n",
    "import string"
   ]
  },
  {
   "cell_type": "code",
   "execution_count": 2,
   "metadata": {},
   "outputs": [],
   "source": [
    "def read_input(day):\n",
    "    with open(f'Inputs/input{day}') as f:\n",
    "        return f.read()"
   ]
  },
  {
   "cell_type": "markdown",
   "metadata": {},
   "source": [
    "## Day 1"
   ]
  },
  {
   "cell_type": "code",
   "execution_count": 5,
   "metadata": {
    "scrolled": true
   },
   "outputs": [],
   "source": [
    "expenses = [int(x) for x in read_input(1).strip().split()]"
   ]
  },
  {
   "cell_type": "code",
   "execution_count": 8,
   "metadata": {},
   "outputs": [
    {
     "data": {
      "text/plain": [
       "[1818, 1687, 1404, 1778, 1096]"
      ]
     },
     "execution_count": 8,
     "metadata": {},
     "output_type": "execute_result"
    }
   ],
   "source": [
    "expenses[-5:]"
   ]
  },
  {
   "cell_type": "code",
   "execution_count": 12,
   "metadata": {},
   "outputs": [
    {
     "name": "stdout",
     "output_type": "stream",
     "text": [
      "997899\n"
     ]
    }
   ],
   "source": [
    "for i, j in product(expenses, expenses):\n",
    "    if i + j == 2020:\n",
    "        print(i*j)\n",
    "        break"
   ]
  },
  {
   "cell_type": "code",
   "execution_count": 13,
   "metadata": {},
   "outputs": [
    {
     "name": "stdout",
     "output_type": "stream",
     "text": [
      "131248694\n"
     ]
    }
   ],
   "source": [
    "for i, j, k in product(expenses, repeat=3):\n",
    "    if i + j + k == 2020:\n",
    "        print(i*j*k)\n",
    "        break"
   ]
  },
  {
   "cell_type": "markdown",
   "metadata": {},
   "source": [
    "## Day 2"
   ]
  },
  {
   "cell_type": "code",
   "execution_count": 10,
   "metadata": {},
   "outputs": [],
   "source": [
    "items = [x.split(': ') for x in read_input(2).strip().split('\\n')]"
   ]
  },
  {
   "cell_type": "code",
   "execution_count": 11,
   "metadata": {},
   "outputs": [
    {
     "data": {
      "text/plain": [
       "[['6-12 g', 'dmgggpgggwczggghggm'],\n",
       " ['3-6 h', 'hdhjhhhhchh'],\n",
       " ['11-12 r', 'zrrkcrrrrrlh'],\n",
       " ['7-9 v', 'vhqvlvwvzqwqvrxvjnf'],\n",
       " ['1-5 r', 'rvmjr']]"
      ]
     },
     "execution_count": 11,
     "metadata": {},
     "output_type": "execute_result"
    }
   ],
   "source": [
    "items[-5:]"
   ]
  },
  {
   "cell_type": "code",
   "execution_count": 15,
   "metadata": {},
   "outputs": [],
   "source": [
    "def parse_rule(rule):\n",
    "    count, char = rule.split()\n",
    "    min_count, max_count = [int(x) for x in count.split('-')]\n",
    "    return min_count, max_count, char\n",
    "\n",
    "assert parse_rule('6-12 g') == (6, 12, 'g')"
   ]
  },
  {
   "cell_type": "code",
   "execution_count": 17,
   "metadata": {},
   "outputs": [],
   "source": [
    "valid = 0\n",
    "for rule, password in items:\n",
    "    min_count, max_count, char = parse_rule(rule)\n",
    "    if min_count <= Counter(password)[char] <= max_count:\n",
    "        valid += 1"
   ]
  },
  {
   "cell_type": "code",
   "execution_count": 18,
   "metadata": {},
   "outputs": [
    {
     "data": {
      "text/plain": [
       "564"
      ]
     },
     "execution_count": 18,
     "metadata": {},
     "output_type": "execute_result"
    }
   ],
   "source": [
    "valid"
   ]
  },
  {
   "cell_type": "code",
   "execution_count": 26,
   "metadata": {},
   "outputs": [],
   "source": [
    "valid = 0\n",
    "for rule, password in items:\n",
    "    pos_1, pos_2, char = parse_rule(rule)\n",
    "    if (password[pos_1-1] == char) ^ (password[pos_2-1] == char):\n",
    "        valid += 1"
   ]
  },
  {
   "cell_type": "code",
   "execution_count": 27,
   "metadata": {},
   "outputs": [
    {
     "data": {
      "text/plain": [
       "325"
      ]
     },
     "execution_count": 27,
     "metadata": {},
     "output_type": "execute_result"
    }
   ],
   "source": [
    "valid"
   ]
  },
  {
   "cell_type": "markdown",
   "metadata": {},
   "source": [
    "## Day 3"
   ]
  },
  {
   "cell_type": "code",
   "execution_count": 5,
   "metadata": {},
   "outputs": [],
   "source": [
    "slope = read_input(3).strip().split('\\n')"
   ]
  },
  {
   "cell_type": "code",
   "execution_count": 6,
   "metadata": {},
   "outputs": [
    {
     "data": {
      "text/plain": [
       "['.............#...#....#.....##.',\n",
       " '.#...##.........#.#.........#.#',\n",
       " '.....##......#.......#.........',\n",
       " '.......#...........#.#.........',\n",
       " '#...........#...#..#.#......#..',\n",
       " '.........##....#.#...#.........',\n",
       " '.....#.........#.#...........#.',\n",
       " '....#...............##....##...',\n",
       " '#.#.............#..#.......#.#.',\n",
       " '...#...........................']"
      ]
     },
     "execution_count": 6,
     "metadata": {},
     "output_type": "execute_result"
    }
   ],
   "source": [
    "slope[:10]"
   ]
  },
  {
   "cell_type": "code",
   "execution_count": 8,
   "metadata": {},
   "outputs": [],
   "source": [
    "height = len(slope)\n",
    "width = len(slope[0])"
   ]
  },
  {
   "cell_type": "code",
   "execution_count": 9,
   "metadata": {},
   "outputs": [
    {
     "data": {
      "text/plain": [
       "(323, 31)"
      ]
     },
     "execution_count": 9,
     "metadata": {},
     "output_type": "execute_result"
    }
   ],
   "source": [
    "height, width"
   ]
  },
  {
   "cell_type": "code",
   "execution_count": 18,
   "metadata": {},
   "outputs": [],
   "source": [
    "def trees_hit(slope, direction):\n",
    "    x, y = 0, 0\n",
    "    x_inc, y_inc = direction\n",
    "    trees_hit = 0\n",
    "    while True:\n",
    "        y += y_inc\n",
    "        x = (x + x_inc) % width\n",
    "        if y >= len(slope):\n",
    "            break\n",
    "        if slope[y][x] == '#':\n",
    "            trees_hit += 1\n",
    "    return trees_hit"
   ]
  },
  {
   "cell_type": "code",
   "execution_count": 19,
   "metadata": {},
   "outputs": [
    {
     "data": {
      "text/plain": [
       "167"
      ]
     },
     "execution_count": 19,
     "metadata": {},
     "output_type": "execute_result"
    }
   ],
   "source": [
    "trees_hit(slope, (3, 1))"
   ]
  },
  {
   "cell_type": "code",
   "execution_count": 22,
   "metadata": {},
   "outputs": [
    {
     "data": {
      "text/plain": [
       "736527114"
      ]
     },
     "execution_count": 22,
     "metadata": {},
     "output_type": "execute_result"
    }
   ],
   "source": [
    "trees_hit(slope, (1, 1)) * trees_hit(slope, (3, 1)) * trees_hit(slope, (5, 1)) * trees_hit(slope, (7, 1)) * trees_hit(slope, (1, 2))"
   ]
  },
  {
   "cell_type": "markdown",
   "metadata": {},
   "source": [
    "## Day 4"
   ]
  },
  {
   "cell_type": "code",
   "execution_count": 7,
   "metadata": {},
   "outputs": [
    {
     "data": {
      "text/plain": [
       "['iyr:2020 cid:82\\nhgt:193in hcl:#b6652a\\necl:grn eyr:2034 byr:2026',\n",
       " 'iyr:1922 hcl:245cb3 byr:2015\\npid:151cm\\neyr:2040\\necl:lzr cid:136 hgt:101',\n",
       " 'byr:2025\\neyr:2029\\nhgt:193in\\ncid:308\\necl:gry iyr:2028 pid:9335153289\\nhcl:z',\n",
       " 'eyr:2030 hgt:163cm iyr:2014\\npid:147768826 ecl:blu byr:1922 hcl:#ceb3a1 cid:169',\n",
       " 'ecl:blu byr:2002 eyr:2028 pid:998185490 cid:165 iyr:2020\\nhgt:188cm hcl:#c0946f']"
      ]
     },
     "execution_count": 7,
     "metadata": {},
     "output_type": "execute_result"
    }
   ],
   "source": [
    "records = read_input(4).strip().split('\\n\\n')\n",
    "records[-5:]"
   ]
  },
  {
   "cell_type": "code",
   "execution_count": 12,
   "metadata": {},
   "outputs": [],
   "source": [
    "def parse_record(record):\n",
    "    fields = [field.split(':') for field in record.split()]\n",
    "    return {k: v for k, v in fields}"
   ]
  },
  {
   "cell_type": "code",
   "execution_count": 13,
   "metadata": {},
   "outputs": [
    {
     "data": {
      "text/plain": [
       "{'byr': '2029',\n",
       " 'cid': '219',\n",
       " 'ecl': '#7a0fa6',\n",
       " 'eyr': '1992',\n",
       " 'hcl': '#b6652a',\n",
       " 'hgt': '59cm',\n",
       " 'iyr': '2015',\n",
       " 'pid': '9381688753'}"
      ]
     },
     "execution_count": 13,
     "metadata": {},
     "output_type": "execute_result"
    }
   ],
   "source": [
    "parse_record(records[0])"
   ]
  },
  {
   "cell_type": "code",
   "execution_count": 23,
   "metadata": {},
   "outputs": [],
   "source": [
    "parsed = [parse_record(record) for record in records]"
   ]
  },
  {
   "cell_type": "code",
   "execution_count": 24,
   "metadata": {},
   "outputs": [],
   "source": [
    "def is_valid_record(parsed_record):\n",
    "    required_fields = ['byr', 'ecl', 'eyr', 'hcl', 'hgt', 'iyr', 'pid']\n",
    "    for field in required_fields:\n",
    "        if field not in parsed_record:\n",
    "            return False\n",
    "    return True"
   ]
  },
  {
   "cell_type": "code",
   "execution_count": 25,
   "metadata": {},
   "outputs": [
    {
     "data": {
      "text/plain": [
       "210"
      ]
     },
     "execution_count": 25,
     "metadata": {},
     "output_type": "execute_result"
    }
   ],
   "source": [
    "sum([is_valid_record(r) for r in parsed])"
   ]
  },
  {
   "cell_type": "code",
   "execution_count": 65,
   "metadata": {},
   "outputs": [],
   "source": [
    "def is_valid_record2(r):\n",
    "    try:\n",
    "        if (int(r['byr']) < 1920) or (int(r['byr']) > 2002) or (len(r['byr']) != 4):\n",
    "            return False\n",
    "        if (int(r['iyr']) < 2010) or (int(r['iyr']) > 2020) or (len(r['iyr']) != 4):\n",
    "            return False\n",
    "        if (int(r['eyr']) < 2020) or (int(r['eyr']) > 2030) or (len(r['eyr']) != 4):\n",
    "            return False\n",
    "        if not re.match(r'^#[a-f0-9]{6}$', r['hcl']):\n",
    "            return False\n",
    "        if not re.match(r'^\\d{9}$', r['pid']):\n",
    "            return False\n",
    "        if r['ecl'] not in ['amb', 'blu', 'brn', 'gry', 'grn', 'hzl', 'oth']:\n",
    "            return False\n",
    "        height = re.findall(r'^(\\d+)(cm|in)$', r['hgt'])\n",
    "        if not height:\n",
    "            return False\n",
    "        value, scale = height[0]\n",
    "        value = int(value)\n",
    "        if scale == 'cm':\n",
    "            if (value < 150) or (value > 193):\n",
    "                return False\n",
    "        elif scale == 'in':\n",
    "            if (value < 59) or (value > 76):\n",
    "                return False\n",
    "        return True\n",
    "    except KeyError:\n",
    "        return False"
   ]
  },
  {
   "cell_type": "code",
   "execution_count": 66,
   "metadata": {},
   "outputs": [
    {
     "data": {
      "text/plain": [
       "131"
      ]
     },
     "execution_count": 66,
     "metadata": {},
     "output_type": "execute_result"
    }
   ],
   "source": [
    "sum([is_valid_record2(r) for r in parsed])"
   ]
  },
  {
   "cell_type": "markdown",
   "metadata": {},
   "source": [
    "## Day 5"
   ]
  },
  {
   "cell_type": "code",
   "execution_count": 5,
   "metadata": {},
   "outputs": [],
   "source": [
    "passes = read_input(5).strip().split()"
   ]
  },
  {
   "cell_type": "code",
   "execution_count": 6,
   "metadata": {},
   "outputs": [
    {
     "data": {
      "text/plain": [
       "['FBBBBBBLLR', 'FBBFFFBLRL', 'BBBFFBFRLL', 'FBFFBFBRRL', 'BBFFFFFRRL']"
      ]
     },
     "execution_count": 6,
     "metadata": {},
     "output_type": "execute_result"
    }
   ],
   "source": [
    "passes[-5:]"
   ]
  },
  {
   "cell_type": "code",
   "execution_count": 24,
   "metadata": {},
   "outputs": [],
   "source": [
    "def seat_id(b_pass):\n",
    "    # translate each sequence to a binary number\n",
    "    translation = str.maketrans('FBLR', '0101')\n",
    "    b_pass = b_pass.translate(translation)\n",
    "    row = int(b_pass[:7], base=2)\n",
    "    col = int(b_pass[7:], base=2)\n",
    "    return (row * 8) + col"
   ]
  },
  {
   "cell_type": "code",
   "execution_count": 25,
   "metadata": {},
   "outputs": [
    {
     "data": {
      "text/plain": [
       "357"
      ]
     },
     "execution_count": 25,
     "metadata": {},
     "output_type": "execute_result"
    }
   ],
   "source": [
    "seat_id('FBFBBFFRLR')"
   ]
  },
  {
   "cell_type": "code",
   "execution_count": 26,
   "metadata": {},
   "outputs": [],
   "source": [
    "seat_ids = [seat_id(b_pass) for b_pass in passes]"
   ]
  },
  {
   "cell_type": "code",
   "execution_count": 27,
   "metadata": {},
   "outputs": [
    {
     "data": {
      "text/plain": [
       "959"
      ]
     },
     "execution_count": 27,
     "metadata": {},
     "output_type": "execute_result"
    }
   ],
   "source": [
    "max(seat_ids)"
   ]
  },
  {
   "cell_type": "code",
   "execution_count": 28,
   "metadata": {},
   "outputs": [
    {
     "data": {
      "text/plain": [
       "527"
      ]
     },
     "execution_count": 28,
     "metadata": {},
     "output_type": "execute_result"
    }
   ],
   "source": [
    "max(set(range(959)) - set(seat_ids))"
   ]
  },
  {
   "cell_type": "markdown",
   "metadata": {},
   "source": [
    "## Day 6"
   ]
  },
  {
   "cell_type": "code",
   "execution_count": 46,
   "metadata": {},
   "outputs": [],
   "source": [
    "groups = read_input(6).strip().split('\\n\\n')"
   ]
  },
  {
   "cell_type": "code",
   "execution_count": 47,
   "metadata": {},
   "outputs": [
    {
     "data": {
      "text/plain": [
       "['dm\\nyk', 'xyqbn\\ncxypns\\nhkgylf', 'mhqunico\\nmchio\\nhciwosm']"
      ]
     },
     "execution_count": 47,
     "metadata": {},
     "output_type": "execute_result"
    }
   ],
   "source": [
    "groups[-3:]"
   ]
  },
  {
   "cell_type": "code",
   "execution_count": 48,
   "metadata": {},
   "outputs": [
    {
     "data": {
      "text/plain": [
       "6947"
      ]
     },
     "execution_count": 48,
     "metadata": {},
     "output_type": "execute_result"
    }
   ],
   "source": [
    "sum([len(Counter(g.replace('\\n', ''))) for g in groups])"
   ]
  },
  {
   "cell_type": "code",
   "execution_count": 53,
   "metadata": {},
   "outputs": [],
   "source": [
    "count = 0\n",
    "for group in groups:\n",
    "    intersection = set(string.ascii_lowercase)\n",
    "    for person in group.split():\n",
    "        intersection &= set(person)\n",
    "    count += len(intersection)"
   ]
  },
  {
   "cell_type": "code",
   "execution_count": 54,
   "metadata": {},
   "outputs": [
    {
     "data": {
      "text/plain": [
       "3398"
      ]
     },
     "execution_count": 54,
     "metadata": {},
     "output_type": "execute_result"
    }
   ],
   "source": [
    "count"
   ]
  },
  {
   "cell_type": "code",
   "execution_count": null,
   "metadata": {},
   "outputs": [],
   "source": []
  }
 ],
 "metadata": {
  "kernelspec": {
   "display_name": "Python 3",
   "language": "python",
   "name": "python3"
  },
  "language_info": {
   "codemirror_mode": {
    "name": "ipython",
    "version": 3
   },
   "file_extension": ".py",
   "mimetype": "text/x-python",
   "name": "python",
   "nbconvert_exporter": "python",
   "pygments_lexer": "ipython3",
   "version": "3.6.9"
  }
 },
 "nbformat": 4,
 "nbformat_minor": 2
}
