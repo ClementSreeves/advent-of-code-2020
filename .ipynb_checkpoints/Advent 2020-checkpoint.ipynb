{
 "cells": [
  {
   "cell_type": "code",
   "execution_count": 1,
   "metadata": {},
   "outputs": [],
   "source": [
    "from itertools import product\n",
    "import re\n",
    "from collections import Counter"
   ]
  },
  {
   "cell_type": "code",
   "execution_count": 2,
   "metadata": {},
   "outputs": [],
   "source": [
    "def read_input(day):\n",
    "    with open(f'Inputs/input{day}') as f:\n",
    "        return f.read()"
   ]
  },
  {
   "cell_type": "code",
   "execution_count": 5,
   "metadata": {
    "scrolled": true
   },
   "outputs": [],
   "source": [
    "expenses = [int(x) for x in read_input(1).strip().split()]"
   ]
  },
  {
   "cell_type": "code",
   "execution_count": 8,
   "metadata": {},
   "outputs": [
    {
     "data": {
      "text/plain": [
       "[1818, 1687, 1404, 1778, 1096]"
      ]
     },
     "execution_count": 8,
     "metadata": {},
     "output_type": "execute_result"
    }
   ],
   "source": [
    "expenses[-5:]"
   ]
  },
  {
   "cell_type": "code",
   "execution_count": 12,
   "metadata": {},
   "outputs": [
    {
     "name": "stdout",
     "output_type": "stream",
     "text": [
      "997899\n"
     ]
    }
   ],
   "source": [
    "for i, j in product(expenses, expenses):\n",
    "    if i + j == 2020:\n",
    "        print(i*j)\n",
    "        break"
   ]
  },
  {
   "cell_type": "code",
   "execution_count": 13,
   "metadata": {},
   "outputs": [
    {
     "name": "stdout",
     "output_type": "stream",
     "text": [
      "131248694\n"
     ]
    }
   ],
   "source": [
    "for i, j, k in product(expenses, repeat=3):\n",
    "    if i + j + k == 2020:\n",
    "        print(i*j*k)\n",
    "        break"
   ]
  },
  {
   "cell_type": "markdown",
   "metadata": {},
   "source": [
    "## Day 2"
   ]
  },
  {
   "cell_type": "code",
   "execution_count": 10,
   "metadata": {},
   "outputs": [],
   "source": [
    "items = [x.split(': ') for x in read_input(2).strip().split('\\n')]"
   ]
  },
  {
   "cell_type": "code",
   "execution_count": 11,
   "metadata": {},
   "outputs": [
    {
     "data": {
      "text/plain": [
       "[['6-12 g', 'dmgggpgggwczggghggm'],\n",
       " ['3-6 h', 'hdhjhhhhchh'],\n",
       " ['11-12 r', 'zrrkcrrrrrlh'],\n",
       " ['7-9 v', 'vhqvlvwvzqwqvrxvjnf'],\n",
       " ['1-5 r', 'rvmjr']]"
      ]
     },
     "execution_count": 11,
     "metadata": {},
     "output_type": "execute_result"
    }
   ],
   "source": [
    "items[-5:]"
   ]
  },
  {
   "cell_type": "code",
   "execution_count": 15,
   "metadata": {},
   "outputs": [],
   "source": [
    "def parse_rule(rule):\n",
    "    count, char = rule.split()\n",
    "    min_count, max_count = [int(x) for x in count.split('-')]\n",
    "    return min_count, max_count, char\n",
    "\n",
    "assert parse_rule('6-12 g') == (6, 12, 'g')"
   ]
  },
  {
   "cell_type": "code",
   "execution_count": 17,
   "metadata": {},
   "outputs": [],
   "source": [
    "valid = 0\n",
    "for rule, password in items:\n",
    "    min_count, max_count, char = parse_rule(rule)\n",
    "    if min_count <= Counter(password)[char] <= max_count:\n",
    "        valid += 1"
   ]
  },
  {
   "cell_type": "code",
   "execution_count": 18,
   "metadata": {},
   "outputs": [
    {
     "data": {
      "text/plain": [
       "564"
      ]
     },
     "execution_count": 18,
     "metadata": {},
     "output_type": "execute_result"
    }
   ],
   "source": [
    "valid"
   ]
  },
  {
   "cell_type": "code",
   "execution_count": 26,
   "metadata": {},
   "outputs": [],
   "source": [
    "valid = 0\n",
    "for rule, password in items:\n",
    "    pos_1, pos_2, char = parse_rule(rule)\n",
    "    if (password[pos_1-1] == char) ^ (password[pos_2-1] == char):\n",
    "        valid += 1"
   ]
  },
  {
   "cell_type": "code",
   "execution_count": 27,
   "metadata": {},
   "outputs": [
    {
     "data": {
      "text/plain": [
       "325"
      ]
     },
     "execution_count": 27,
     "metadata": {},
     "output_type": "execute_result"
    }
   ],
   "source": [
    "valid"
   ]
  },
  {
   "cell_type": "markdown",
   "metadata": {},
   "source": [
    "## Day 3"
   ]
  },
  {
   "cell_type": "code",
   "execution_count": 5,
   "metadata": {},
   "outputs": [],
   "source": [
    "slope = read_input(3).strip().split('\\n')"
   ]
  },
  {
   "cell_type": "code",
   "execution_count": 6,
   "metadata": {},
   "outputs": [
    {
     "data": {
      "text/plain": [
       "['.............#...#....#.....##.',\n",
       " '.#...##.........#.#.........#.#',\n",
       " '.....##......#.......#.........',\n",
       " '.......#...........#.#.........',\n",
       " '#...........#...#..#.#......#..',\n",
       " '.........##....#.#...#.........',\n",
       " '.....#.........#.#...........#.',\n",
       " '....#...............##....##...',\n",
       " '#.#.............#..#.......#.#.',\n",
       " '...#...........................']"
      ]
     },
     "execution_count": 6,
     "metadata": {},
     "output_type": "execute_result"
    }
   ],
   "source": [
    "slope[:10]"
   ]
  },
  {
   "cell_type": "code",
   "execution_count": 8,
   "metadata": {},
   "outputs": [],
   "source": [
    "height = len(slope)\n",
    "width = len(slope[0])"
   ]
  },
  {
   "cell_type": "code",
   "execution_count": 9,
   "metadata": {},
   "outputs": [
    {
     "data": {
      "text/plain": [
       "(323, 31)"
      ]
     },
     "execution_count": 9,
     "metadata": {},
     "output_type": "execute_result"
    }
   ],
   "source": [
    "height, width"
   ]
  },
  {
   "cell_type": "code",
   "execution_count": 18,
   "metadata": {},
   "outputs": [],
   "source": [
    "def trees_hit(slope, direction):\n",
    "    x, y = 0, 0\n",
    "    x_inc, y_inc = direction\n",
    "    trees_hit = 0\n",
    "    while True:\n",
    "        y += y_inc\n",
    "        x = (x + x_inc) % width\n",
    "        if y >= len(slope):\n",
    "            break\n",
    "        if slope[y][x] == '#':\n",
    "            trees_hit += 1\n",
    "    return trees_hit"
   ]
  },
  {
   "cell_type": "code",
   "execution_count": 19,
   "metadata": {},
   "outputs": [
    {
     "data": {
      "text/plain": [
       "167"
      ]
     },
     "execution_count": 19,
     "metadata": {},
     "output_type": "execute_result"
    }
   ],
   "source": [
    "trees_hit(slope, (3, 1))"
   ]
  },
  {
   "cell_type": "code",
   "execution_count": 22,
   "metadata": {},
   "outputs": [
    {
     "data": {
      "text/plain": [
       "736527114"
      ]
     },
     "execution_count": 22,
     "metadata": {},
     "output_type": "execute_result"
    }
   ],
   "source": [
    "trees_hit(slope, (1, 1)) * trees_hit(slope, (3, 1)) * trees_hit(slope, (5, 1)) * trees_hit(slope, (7, 1)) * trees_hit(slope, (1, 2))"
   ]
  },
  {
   "cell_type": "code",
   "execution_count": null,
   "metadata": {},
   "outputs": [],
   "source": []
  }
 ],
 "metadata": {
  "kernelspec": {
   "display_name": "Python 3",
   "language": "python",
   "name": "python3"
  },
  "language_info": {
   "codemirror_mode": {
    "name": "ipython",
    "version": 3
   },
   "file_extension": ".py",
   "mimetype": "text/x-python",
   "name": "python",
   "nbconvert_exporter": "python",
   "pygments_lexer": "ipython3",
   "version": "3.6.9"
  }
 },
 "nbformat": 4,
 "nbformat_minor": 2
}
